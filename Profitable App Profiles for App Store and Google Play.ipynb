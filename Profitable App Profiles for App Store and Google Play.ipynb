{
 "cells": [
  {
   "cell_type": "markdown",
   "id": "0da4a8d7",
   "metadata": {},
   "source": [
    "# Profitable App Profiles for the App Store and Google Play Markets\n",
    "**A Dataquest Guided Project**\n",
    "\n",
    "*Lindsay Hodgens*\n",
    "\n",
    "---\n",
    "\n",
    "## Introduction\n",
    "\n",
    "This project was built as part of Dataquest's \"Data Scientist in Python\" learning path. The objective of this project is to analyze the user base associated with various apps listed on the App Store and Google Play Markets. "
   ]
  },
  {
   "cell_type": "markdown",
   "id": "5eb08acc",
   "metadata": {},
   "source": [
    "\n",
    "## Step 1: Load in the data\n",
    "\n",
    "Today we'll be using two datasets:  \n",
    "<ol>\n",
    "    <li>\"googleplaystore.csv\" - A dataset containing information for approx. 10,000 Android apps listed from the Google Play store. *Data collected in August 2018.*</li>\n",
    "    <li>\"AppleStore.csv\" - A dataset containing information for approx. 7,000 iOS apps from the App Store. *Data collected in July 2017.*</li>\n",
    "</ol>\n",
    "        "
   ]
  },
  {
   "cell_type": "code",
   "execution_count": 3,
   "id": "1995dd0a",
   "metadata": {},
   "outputs": [],
   "source": [
    "from csv import reader\n",
    "\n",
    "# (1) Load in Google Play dataset\n",
    "opened_goog = open('googleplaystore.csv', encoding='utf8')\n",
    "read_goog = reader(opened_goog)\n",
    "android_dataset = list(read_goog)\n",
    "android_header = android_dataset[0]\n",
    "android_data = android_dataset[1:]\n",
    "\n",
    "# (2) Load in App Store dataset\n",
    "opened_app = open('AppleStore.csv', encoding='utf8')\n",
    "read_app = reader(opened_app)\n",
    "ios_dataset = list(read_app)\n",
    "ios_header = ios_dataset[0]\n",
    "ios_data = ios_dataset[1:]"
   ]
  },
  {
   "cell_type": "markdown",
   "id": "5ca48df6",
   "metadata": {},
   "source": [
    "## Step 2: Do a little exploring\n",
    "\n",
    "Dataquest has provided a function called \"explore_data().\" When we use it to print out the first few rows of the dataset, this function will style the information in a way that is easier to read and understand. Let's see what we're going to be working with...."
   ]
  },
  {
   "cell_type": "code",
   "execution_count": 4,
   "id": "a81f2514",
   "metadata": {
    "scrolled": true
   },
   "outputs": [
    {
     "name": "stdout",
     "output_type": "stream",
     "text": [
      "\n",
      "\n",
      "GOOGLE PLAY DATA: THE FIRST 5 ROWS\n",
      "\n",
      "\n",
      "['Coloring book moana', 'ART_AND_DESIGN', '3.9', '967', '14M', '500,000+', 'Free', '0', 'Everyone', 'Art & Design;Pretend Play', 'January 15, 2018', '2.0.0', '4.0.3 and up']\n",
      "\n",
      "\n",
      "['U Launcher Lite – FREE Live Cool Themes, Hide Apps', 'ART_AND_DESIGN', '4.7', '87510', '8.7M', '5,000,000+', 'Free', '0', 'Everyone', 'Art & Design', 'August 1, 2018', '1.2.4', '4.0.3 and up']\n",
      "\n",
      "\n",
      "['Sketch - Draw & Paint', 'ART_AND_DESIGN', '4.5', '215644', '25M', '50,000,000+', 'Free', '0', 'Teen', 'Art & Design', 'June 8, 2018', 'Varies with device', '4.2 and up']\n",
      "\n",
      "\n",
      "['Pixel Draw - Number Art Coloring Book', 'ART_AND_DESIGN', '4.3', '967', '2.8M', '100,000+', 'Free', '0', 'Everyone', 'Art & Design;Creativity', 'June 20, 2018', '1.1', '4.4 and up']\n",
      "\n",
      "\n",
      "['Paper flowers instructions', 'ART_AND_DESIGN', '4.4', '167', '5.6M', '50,000+', 'Free', '0', 'Everyone', 'Art & Design', 'March 26, 2017', '1.0', '2.3 and up']\n",
      "\n",
      "\n",
      "Number of rows: 10841\n",
      "Number of columns: 13\n",
      "\n",
      "\n",
      "******************************************************************\n",
      "\n",
      "\n",
      "APP STORE DATA: THE FIRST 5 ROWS\n",
      "\n",
      "\n",
      "['389801252', 'Instagram', '113954816', 'USD', '0.0', '2161558', '1289', '4.5', '4.0', '10.23', '12+', 'Photo & Video', '37', '0', '29', '1']\n",
      "\n",
      "\n",
      "['529479190', 'Clash of Clans', '116476928', 'USD', '0.0', '2130805', '579', '4.5', '4.5', '9.24.12', '9+', 'Games', '38', '5', '18', '1']\n",
      "\n",
      "\n",
      "['420009108', 'Temple Run', '65921024', 'USD', '0.0', '1724546', '3842', '4.5', '4.0', '1.6.2', '9+', 'Games', '40', '5', '1', '1']\n",
      "\n",
      "\n",
      "['284035177', 'Pandora - Music & Radio', '130242560', 'USD', '0.0', '1126879', '3594', '4.0', '4.5', '8.4.1', '12+', 'Music', '37', '4', '1', '1']\n",
      "\n",
      "\n",
      "['429047995', 'Pinterest', '74778624', 'USD', '0.0', '1061624', '1814', '4.5', '4.0', '6.26', '12+', 'Social Networking', '37', '5', '27', '1']\n",
      "\n",
      "\n",
      "Number of rows: 7197\n",
      "Number of columns: 16\n",
      "\n",
      "\n",
      "\n",
      "\n",
      "\n",
      "\n"
     ]
    }
   ],
   "source": [
    "def explore_data(dataset, start, end, rows_and_columns=False):\n",
    "    dataset_slice = dataset[start:end]    \n",
    "    for row in dataset_slice:\n",
    "        print(row)\n",
    "        print('\\n') # adds a new (empty) line after each row\n",
    "\n",
    "    if rows_and_columns:\n",
    "        print('Number of rows:', len(dataset))\n",
    "        print('Number of columns:', len(dataset[0]))\n",
    "\n",
    "# Previewing the first few rows of the Google Play data\n",
    "\n",
    "print('\\n')\n",
    "print(\"GOOGLE PLAY DATA: THE FIRST 5 ROWS\")\n",
    "print('\\n')\n",
    "explore_data(android_data, 1, 6, True)\n",
    "print('\\n')\n",
    "\n",
    "print(\"******************************************************************\")\n",
    "# Previewing the first few rows of the App Store data\n",
    "\n",
    "print('\\n')\n",
    "print(\"APP STORE DATA: THE FIRST 5 ROWS\")\n",
    "print('\\n')\n",
    "explore_data(ios_data, 1, 6, True)\n",
    "print('\\n')\n",
    "print('\\n')\n",
    "print('\\n')"
   ]
  },
  {
   "cell_type": "markdown",
   "id": "b15577a0",
   "metadata": {},
   "source": [
    "## Step 3: Clean the Data  \n",
    "\n",
    "*Note: To keep the scope of this guided project reasonable, I will only be correcting known issues with the datasets. I will point out which dataset is affected by each data cleaning step.*\n",
    "\n",
    "## Step 3.1 - Google Play Data - Correct Known Data Issue with Entry No.10472\n",
    "\n",
    "As [this discussion](https://www.kaggle.com/lava18/google-play-store-apps/discussion/66015) points out, there is a known issue with Entry 10472. The rating appears to be missing for this app, which produces a column shift for the next columns. \n",
    "\n",
    "First I'm going to list out the columns in the Google Play dataset to see  what kinds of information *should* be there."
   ]
  },
  {
   "cell_type": "code",
   "execution_count": 8,
   "id": "8a45b19e",
   "metadata": {},
   "outputs": [
    {
     "name": "stdout",
     "output_type": "stream",
     "text": [
      "['App', 'Category', 'Rating', 'Reviews', 'Size', 'Installs', 'Type', 'Price', 'Content Rating', 'Genres', 'Last Updated', 'Current Ver', 'Android Ver']\n"
     ]
    },
    {
     "data": {
      "text/plain": [
       "13"
      ]
     },
     "execution_count": 8,
     "metadata": {},
     "output_type": "execute_result"
    }
   ],
   "source": [
    "print(android_header)\n",
    "len(android_header)"
   ]
  },
  {
   "cell_type": "markdown",
   "id": "1233b19d",
   "metadata": {},
   "source": [
    "Now we know that each row is supposed to have 13 values, as well as the name for each column."
   ]
  },
  {
   "cell_type": "code",
   "execution_count": 9,
   "id": "a1b76133",
   "metadata": {},
   "outputs": [
    {
     "name": "stdout",
     "output_type": "stream",
     "text": [
      "['Life Made WI-Fi Touchscreen Photo Frame', '1.9', '19', '3.0M', '1,000+', 'Free', '0', 'Everyone', '', 'February 11, 2018', '1.0.19', '4.0 and up']\n"
     ]
    },
    {
     "data": {
      "text/plain": [
       "12"
      ]
     },
     "execution_count": 9,
     "metadata": {},
     "output_type": "execute_result"
    }
   ],
   "source": [
    "print(android_data[10472])\n",
    "len(android_data[10472])"
   ]
  },
  {
   "cell_type": "markdown",
   "id": "c8e307f9",
   "metadata": {},
   "source": [
    "When we pull up Entry 10472 we find that the row is indeed missing a value from one of the 13 columns.\n",
    "\n",
    "There are a couple of things we could do in this situation. We could delete the row entirely or we could fill in the value. Someone pointed out in the original Kaggle discussion thread that the category seems to be \"Lifestyle,\" so I'd prefer to just fill in the missing value for this observation.\n",
    "\n",
    "**Digression: The Road Not Taken: How I *Could* Handle this Problem if I were Using Pandas (Which I'm Not)**\n",
    "\n",
    "As I'm working on this step, it occurs to me that I would have more flexibility to deal with this issue if I had used pandas to put everything into a dataframe. I'm going to refrain from doing that for the time being since it seems like Dataquest wanted to reinforce the \"from csv import reader\" method of loading in the data. \n",
    "\n",
    "If I were using pandas, at this point I'd pull up all of the unique values for the \"Category\" column, to make sure that I get the right styling for this observation's designation of \"Lifestyle.\" I'm sure there's still a way to do this with my current setup, but I'm not currently aware of it. For now, then, I'm going to confirm this the old-school way: by checking the original 'googleplaystore.csv' file.\n",
    "\n",
    "![Screenshot of the Google Play Store spreadsheet. The \"Category\" column has been filtered to show the value 'LIFESTYLE' written in all caps.](https://github.com/lharpercannon/Android-iOS-app-data-exploration/blob/main/img/googleplay_missingcategory.PNG)\n",
    "\n",
    "When I filtered the \"Category\" column, I found that \"LIFESTYLE\" is written out in all caps. Just to make sure, though, I'm going to print out another observation that belongs to this category."
   ]
  },
  {
   "cell_type": "code",
   "execution_count": 11,
   "id": "cac2ba66",
   "metadata": {},
   "outputs": [
    {
     "name": "stdout",
     "output_type": "stream",
     "text": [
      "['Telstra', 'LIFESTYLE', '3.0', '4260', '6.3M', '5,000,000+', 'Free', '0', 'Everyone', 'Lifestyle', 'August 8, 2017', '6.1', '2.3.3 and up']\n"
     ]
    }
   ],
   "source": [
    "print(android_data[1576])"
   ]
  },
  {
   "cell_type": "markdown",
   "id": "20ea1340",
   "metadata": {},
   "source": [
    "## Step 3.1 - CONTINUED\n",
    "\n",
    "*Or, How am I Going to Fix This? By Simply Deleting the Row.*"
   ]
  },
  {
   "cell_type": "markdown",
   "id": "b514662a",
   "metadata": {},
   "source": [
    "Alright, first things first I want to make sure that I don't delete the wrong row somehow. To ward against this, I'm going to print a sequence of rows that contains the observation I intend to delete. For ease of use, I'm going to use that nice **explore_data()** function that Dataquest provided us."
   ]
  },
  {
   "cell_type": "code",
   "execution_count": 12,
   "id": "8a22cb75",
   "metadata": {},
   "outputs": [
    {
     "name": "stdout",
     "output_type": "stream",
     "text": [
      "['Jazz Wi-Fi', 'COMMUNICATION', '3.4', '49', '4.0M', '10,000+', 'Free', '0', 'Everyone', 'Communication', 'February 10, 2017', '0.1', '2.3 and up']\n",
      "\n",
      "\n",
      "['Xposed Wi-Fi-Pwd', 'PERSONALIZATION', '3.5', '1042', '404k', '100,000+', 'Free', '0', 'Everyone', 'Personalization', 'August 5, 2014', '3.0.0', '4.0.3 and up']\n",
      "\n",
      "\n",
      "['Life Made WI-Fi Touchscreen Photo Frame', '1.9', '19', '3.0M', '1,000+', 'Free', '0', 'Everyone', '', 'February 11, 2018', '1.0.19', '4.0 and up']\n",
      "\n",
      "\n",
      "['osmino Wi-Fi: free WiFi', 'TOOLS', '4.2', '134203', '4.1M', '10,000,000+', 'Free', '0', 'Everyone', 'Tools', 'August 7, 2018', '6.06.14', '4.4 and up']\n",
      "\n",
      "\n",
      "['Sat-Fi Voice', 'COMMUNICATION', '3.4', '37', '14M', '1,000+', 'Free', '0', 'Everyone', 'Communication', 'November 21, 2014', '2.2.1.5', '2.2 and up']\n",
      "\n",
      "\n"
     ]
    }
   ],
   "source": [
    "explore_data(android_data, 10470, 10475)"
   ]
  },
  {
   "cell_type": "markdown",
   "id": "de5817cd",
   "metadata": {},
   "source": [
    "As we can see, our target observation (10472) is smack dab in the middle. Let's delete this observation and see what happens."
   ]
  },
  {
   "cell_type": "code",
   "execution_count": 13,
   "id": "145c4e6c",
   "metadata": {},
   "outputs": [],
   "source": [
    "del android_data[10472]"
   ]
  },
  {
   "cell_type": "markdown",
   "id": "3cd090bf",
   "metadata": {},
   "source": [
    "A little nervewracking, isn't it? Let's run the same explore_data() call that we did before. If everything worked correctly, the target observation should be gone and the subsequent observations should have moved up one position. This means we *also* should see a new row included as the last entry of our exploratory list."
   ]
  },
  {
   "cell_type": "code",
   "execution_count": 14,
   "id": "d518a6e5",
   "metadata": {},
   "outputs": [
    {
     "name": "stdout",
     "output_type": "stream",
     "text": [
      "['Jazz Wi-Fi', 'COMMUNICATION', '3.4', '49', '4.0M', '10,000+', 'Free', '0', 'Everyone', 'Communication', 'February 10, 2017', '0.1', '2.3 and up']\n",
      "\n",
      "\n",
      "['Xposed Wi-Fi-Pwd', 'PERSONALIZATION', '3.5', '1042', '404k', '100,000+', 'Free', '0', 'Everyone', 'Personalization', 'August 5, 2014', '3.0.0', '4.0.3 and up']\n",
      "\n",
      "\n",
      "['osmino Wi-Fi: free WiFi', 'TOOLS', '4.2', '134203', '4.1M', '10,000,000+', 'Free', '0', 'Everyone', 'Tools', 'August 7, 2018', '6.06.14', '4.4 and up']\n",
      "\n",
      "\n",
      "['Sat-Fi Voice', 'COMMUNICATION', '3.4', '37', '14M', '1,000+', 'Free', '0', 'Everyone', 'Communication', 'November 21, 2014', '2.2.1.5', '2.2 and up']\n",
      "\n",
      "\n",
      "['Wi-Fi Visualizer', 'TOOLS', '3.9', '132', '2.6M', '50,000+', 'Free', '0', 'Everyone', 'Tools', 'May 17, 2017', '0.0.9', '2.3 and up']\n",
      "\n",
      "\n"
     ]
    }
   ],
   "source": [
    "explore_data(android_data, 10470, 10475)"
   ]
  },
  {
   "cell_type": "markdown",
   "id": "7714b87b",
   "metadata": {},
   "source": [
    "That didn't turn out too bad! \n",
    "\n",
    "That's one known data issue taken care of."
   ]
  },
  {
   "cell_type": "markdown",
   "id": "71a94fc4",
   "metadata": {},
   "source": [
    "---\n",
    "\n"
   ]
  },
  {
   "cell_type": "markdown",
   "id": "fe6a49b7",
   "metadata": {},
   "source": [
    "## Step 3.2 - Google Play Data - Remove Duplicate Entries  \n",
    "\n",
    "On the Kaggle website, folks have pointed out that the dataset contains some duplicate entries. Let's look at an example."
   ]
  },
  {
   "cell_type": "code",
   "execution_count": 16,
   "id": "f1a8c8f0",
   "metadata": {},
   "outputs": [
    {
     "name": "stdout",
     "output_type": "stream",
     "text": [
      "['Instagram', 'SOCIAL', '4.5', '66577313', 'Varies with device', '1,000,000,000+', 'Free', '0', 'Teen', 'Social', 'July 31, 2018', 'Varies with device', 'Varies with device']\n",
      "['Instagram', 'SOCIAL', '4.5', '66577446', 'Varies with device', '1,000,000,000+', 'Free', '0', 'Teen', 'Social', 'July 31, 2018', 'Varies with device', 'Varies with device']\n",
      "['Instagram', 'SOCIAL', '4.5', '66577313', 'Varies with device', '1,000,000,000+', 'Free', '0', 'Teen', 'Social', 'July 31, 2018', 'Varies with device', 'Varies with device']\n",
      "['Instagram', 'SOCIAL', '4.5', '66509917', 'Varies with device', '1,000,000,000+', 'Free', '0', 'Teen', 'Social', 'July 31, 2018', 'Varies with device', 'Varies with device']\n"
     ]
    }
   ],
   "source": [
    "for app in android_data:\n",
    "    name = app[0]\n",
    "    if name == 'Instagram':\n",
    "        print(app)"
   ]
  },
  {
   "cell_type": "markdown",
   "id": "db28650f",
   "metadata": {},
   "source": [
    "As we can see here, Instagram appears within the dataset four times. While we're at it, why don't we go ahead and see how many duplicate rows are in the entire dataset?  \n",
    "\n",
    "*You'll notice that I have also created an empty list called \"unique_android_apps.\" Never fear! We're going to come back to that later on.*"
   ]
  },
  {
   "cell_type": "code",
   "execution_count": 21,
   "id": "05eb6b86",
   "metadata": {},
   "outputs": [
    {
     "name": "stdout",
     "output_type": "stream",
     "text": [
      "Number of duplicate apps: 1181\n",
      "\n",
      "\n",
      "Examples of duplicate apps:\n",
      "\n",
      "Quick PDF Scanner + OCR FREE\n",
      "\n",
      "\n",
      "Box\n",
      "\n",
      "\n",
      "Google My Business\n",
      "\n",
      "\n",
      "ZOOM Cloud Meetings\n",
      "\n",
      "\n",
      "join.me - Simple Meetings\n",
      "\n",
      "\n",
      "Box\n",
      "\n",
      "\n",
      "Zenefits\n",
      "\n",
      "\n",
      "Google Ads\n",
      "\n",
      "\n",
      "Google My Business\n",
      "\n",
      "\n",
      "Slack\n",
      "\n",
      "\n",
      "FreshBooks Classic\n",
      "\n",
      "\n",
      "Insightly CRM\n",
      "\n",
      "\n",
      "QuickBooks Accounting: Invoicing & Expenses\n",
      "\n",
      "\n",
      "HipChat - Chat Built for Teams\n",
      "\n",
      "\n",
      "Xero Accounting Software\n",
      "\n",
      "\n"
     ]
    }
   ],
   "source": [
    "duplicate_android_apps = [] # This list will hold our duplicate rows.\n",
    "unique_android_apps = [] # This list will hold our unique rows.\n",
    "\n",
    "for app in android_data:\n",
    "    name = app[0]\n",
    "    if name in unique_android_apps:\n",
    "        duplicate_android_apps.append(name)\n",
    "    else:\n",
    "        unique_android_apps.append(name)\n",
    "        \n",
    "print('Number of duplicate apps:', len(duplicate_android_apps))\n",
    "print('\\n')\n",
    "print('Examples of duplicate apps:' + '\\n')\n",
    "explore_data(duplicate_android_apps, 0, 15)"
   ]
  },
  {
   "cell_type": "markdown",
   "id": "e97d317e",
   "metadata": {},
   "source": [
    "With this, we know that there are **1,181 duplicate apps** and we can even get a preview of some of the apps that have been impacted by this.\n",
    "\n",
    "Of course, that leaves us with another question: How are we going to take care of these duplicates? We *could* go through and randomly select one observation to retain. However, this plan assumes that one observation for an app is as relevant as the next. If we're going to be thorough, we can't assume that this is the case. If nothing else, we need to check whether we should prioritize a particular entry based on other attributes within the observation.\n",
    "\n",
    "Keeping that in mind, let's return to the example we'd looked at previously: the 4 observations associated with the Instagram app."
   ]
  },
  {
   "cell_type": "code",
   "execution_count": 23,
   "id": "00c29260",
   "metadata": {},
   "outputs": [
    {
     "name": "stdout",
     "output_type": "stream",
     "text": [
      "['Instagram', 'SOCIAL', '4.5', '66577313', 'Varies with device', '1,000,000,000+', 'Free', '0', 'Teen', 'Social', 'July 31, 2018', 'Varies with device', 'Varies with device']\n",
      "\n",
      "\n",
      "['Instagram', 'SOCIAL', '4.5', '66577446', 'Varies with device', '1,000,000,000+', 'Free', '0', 'Teen', 'Social', 'July 31, 2018', 'Varies with device', 'Varies with device']\n",
      "\n",
      "\n",
      "['Instagram', 'SOCIAL', '4.5', '66577313', 'Varies with device', '1,000,000,000+', 'Free', '0', 'Teen', 'Social', 'July 31, 2018', 'Varies with device', 'Varies with device']\n",
      "\n",
      "\n",
      "['Instagram', 'SOCIAL', '4.5', '66509917', 'Varies with device', '1,000,000,000+', 'Free', '0', 'Teen', 'Social', 'July 31, 2018', 'Varies with device', 'Varies with device']\n",
      "\n",
      "\n"
     ]
    }
   ],
   "source": [
    "for app in android_data:\n",
    "    name = app[0]\n",
    "    if name == 'Instagram':\n",
    "        print(app)\n",
    "        print('\\n')\n",
    "        \n",
    "# You may have noticed that this loop looks quite similar to the one we\n",
    "# used before. They're not exactly the same, though. In this case, we're\n",
    "# taking a more targeted approach than selecting all duplicate observations.\n",
    "# By targeting one specific value for one specific attribute--a value of \n",
    "# 'Instagram' for a row's name variable--we can bring up all of the\n",
    "# Instagram rows contained in this dataset."
   ]
  },
  {
   "cell_type": "markdown",
   "id": "190e035d",
   "metadata": {},
   "source": [
    "At first glance, everything seems to be the same....except for the values in the third index position. Here we have:\n",
    "\n",
    "<ul>\n",
    "    <li>'66577313'</li>\n",
    "    <li>'66577446'</li>\n",
    "    <li>'66577313'</li>\n",
    "    <li>'66509917'</li>\n",
    "</ul>  \n",
    "\n",
    "Let's check our header names and see what this value is supposed to be."
   ]
  },
  {
   "cell_type": "code",
   "execution_count": 26,
   "id": "eacedfe4",
   "metadata": {},
   "outputs": [
    {
     "name": "stdout",
     "output_type": "stream",
     "text": [
      "Reviews\n"
     ]
    }
   ],
   "source": [
    "print(android_header[3])"
   ]
  },
  {
   "cell_type": "markdown",
   "id": "7a723a75",
   "metadata": {},
   "source": [
    "If the duplicate rows all have different numbers of total app reviews, then we actually *can* select which duplicate observation to retain in a systematic way that preserves the quality and consistency of our dataset.\n",
    "\n",
    "Therefore, our strategy will be to retain the observation that has the highest review count, as it gives the *most recent* account of the app's attributes."
   ]
  },
  {
   "cell_type": "code",
   "execution_count": 30,
   "id": "ddfe0bd3",
   "metadata": {},
   "outputs": [],
   "source": [
    "reviews_max = {}\n",
    "\n",
    "for app in android_data:\n",
    "    name = app[0]\n",
    "    n_reviews = float(app[3])\n",
    "    if name in reviews_max and reviews_max[name] < n_reviews:\n",
    "        n_reviews = float(app[3])\n",
    "    if name not in reviews_max:\n",
    "        reviews_max[name] = n_reviews"
   ]
  },
  {
   "cell_type": "markdown",
   "id": "459d7f94",
   "metadata": {},
   "source": [
    "This step ought to have isolated all unique observations within the dataset & the selected observation for duplicate cases (the entry with the highest number of app reviews). As always, we want to check our work."
   ]
  },
  {
   "cell_type": "code",
   "execution_count": 31,
   "id": "e886e9da",
   "metadata": {},
   "outputs": [
    {
     "name": "stdout",
     "output_type": "stream",
     "text": [
      "Expected length: 9659\n",
      "Actual length: 9659\n"
     ]
    }
   ],
   "source": [
    "print('Expected length:', len(android_data) - 1181)\n",
    "# Remember, 1181 is the number of known duplicate entries.\n",
    "\n",
    "print('Actual length:', len(reviews_max))"
   ]
  },
  {
   "cell_type": "markdown",
   "id": "7eae3d98",
   "metadata": {},
   "source": [
    "Great! Now we know that everything has worked as intended. Next we're going to use the dictionary we created previously to remove duplicate rows from consideration."
   ]
  },
  {
   "cell_type": "code",
   "execution_count": 33,
   "id": "51897d3b",
   "metadata": {},
   "outputs": [],
   "source": [
    "android_clean = [] # The location for our new (cleaned!) dataset\n",
    "already_added = [] # Stores app names as they're added to the previous list.\n",
    "\n",
    "for app in android_data:\n",
    "    name = app[0]\n",
    "    n_reviews = float(app[3])\n",
    "    if (n_reviews == reviews_max[name]) and name not in already_added:\n",
    "        android_clean.append(app)\n",
    "        already_added.append(name)\n",
    "        "
   ]
  },
  {
   "cell_type": "markdown",
   "id": "4d4c7c08",
   "metadata": {},
   "source": [
    "Let me back up a little and explain what we've just done. In a previous step we used the **reviews_max** dictionary to identify which observation *should* be kept when we come across duplicates.  \n",
    "\n",
    "We're doing something similar this time around. If I'm going to be completely honest, I'm trying to figure out why the \"reviews_max\" step isn't sufficient--by identifying all observations that are either (a) unique rows or (b) duplicate rows with the 'winning condition' (the highest number of total reviews), haven't we already functionally removed all of the duplicates we don't want? I'm going to assume that we're just doing this another way for the sake of reinforcement & to double- and triple-check, so let's resume.\n",
    "\n",
    "This time we've created two empty lists, as noted above in the code. Then we've created a for loop that goes through each row and checks whether the observation in question has an \"n_reviews\" value that matches the corresponding value for that app in the \"reviews_max\" dictionary. If a match is found and the app hasn't already been added to our cleaned dataset (meaning: it's not found in our \"already_added\" list) then we append the details for this row to our android_clean list.  \n",
    "\n",
    "Therefore, we can use the same methods to check our work as before. There should be 9659 entries in our android_clean list."
   ]
  },
  {
   "cell_type": "code",
   "execution_count": 34,
   "id": "16bf6002",
   "metadata": {},
   "outputs": [
    {
     "name": "stdout",
     "output_type": "stream",
     "text": [
      "Expected length: 9659\n",
      "Actual length: 9659\n"
     ]
    }
   ],
   "source": [
    "print('Expected length:', len(reviews_max))\n",
    "print('Actual length:', len(android_clean))"
   ]
  },
  {
   "cell_type": "markdown",
   "id": "8588ad48",
   "metadata": {},
   "source": [
    "## Step 3.3 - Google Play and App Store Data - Addressing Business Requirement Regarding Non-English Apps\n",
    "\n"
   ]
  },
  {
   "cell_type": "markdown",
   "id": "9e649554",
   "metadata": {},
   "source": [
    "In the assignment prompt, Dataquest has noted that our objective is to perform market analysis for a company that intends to develop apps for an English-speaking audience. With that being the case, we'll want to make sure that the only apps in our dataset are English-language apps.  \n",
    "\n",
    "Let's look at some examples of non-English apps."
   ]
  },
  {
   "cell_type": "code",
   "execution_count": 42,
   "id": "7ac86635",
   "metadata": {},
   "outputs": [
    {
     "name": "stdout",
     "output_type": "stream",
     "text": [
      "App Store Example #1: 爱奇艺PPS -《欢乐颂2》电视剧热播\n",
      "\n",
      "\n",
      "App Store Example #2: 【脱出ゲーム】絶対に最後までプレイしないで 〜謎解き＆ブロックパズル〜\n",
      "\n",
      "\n",
      "\n",
      "\n",
      "Google Play Example #1: ['أحداث وحقائق | خبر عاجل في اخبار العالم', 'NEWS_AND_MAGAZINES', '4.8', '311', '14M', '5,000+', 'Free', '0', 'Everyone 10+', 'News & Magazines', 'July 15, 2018', '2.9.19a', '4.2 and up']\n",
      "\n",
      "\n",
      "Google Play Example #2: ['Diário Escola Mestres EF', 'FAMILY', 'NaN', '11', '6.6M', '1,000+', 'Free', '0', 'Everyone', 'Education', 'July 31, 2018', '3.0.18 Fundamental', '4.0 and up']\n"
     ]
    }
   ],
   "source": [
    "print(\"App Store Example #1:\", ios_data[813][1])\n",
    "print('\\n')\n",
    "print(\"App Store Example #2:\", ios_data[6731][1])\n",
    "print('\\n')\n",
    "print('\\n')\n",
    "print(\"Google Play Example #1:\", android_data[9308])\n",
    "print('\\n')\n",
    "print(\"Google Play Example #2:\", android_data[9309])"
   ]
  },
  {
   "cell_type": "markdown",
   "id": "c6f095c6",
   "metadata": {},
   "source": [
    "Before moving on, I do want to point out one way that my last step differs from the Dataquest walkthrough. In the Dataquest walkthrough, observations are pulled from the **android_clean** list. This makes sense, because it represents our cleanest version of the data so far. When I went to call the recommended observations, however, I noticed that my index numbers seem to differ from the tutorial's. Since we double-checked the success of our previous data cleaning steps, I'm not particularly concerned about something being wrong with my cleaned data. However, it is clear that (for whatever reason) there are some differences between *my* cleaned data and the *tutorial's* cleaned data.\n",
    "\n",
    "**My temporary solution:** For the time being I've chosen to pull the Google Play examples from the original android_data list.\n",
    "\n",
    "---\n",
    "\n",
    "To filter out non-English apps, we're going to remove apps whose names contain characters that are not used within the English language.  \n",
    "\n",
    "The English language tends to use characters whose codes fall between 0 and 127. Let's look at a couple of examples."
   ]
  },
  {
   "cell_type": "code",
   "execution_count": 49,
   "id": "5d85461c",
   "metadata": {},
   "outputs": [
    {
     "name": "stdout",
     "output_type": "stream",
     "text": [
      "\n",
      "\n",
      "Likely to be found in English language: A B C\n",
      "\n",
      "\n",
      "Character numbers:\n",
      "65\n",
      "66\n",
      "67\n",
      "\n",
      "\n",
      "\n",
      "\n",
      "Not found in the English language: 爱 日 人\n",
      "\n",
      "\n",
      "Character numbers:\n",
      "29233\n",
      "26085\n",
      "20154\n",
      "\n",
      "\n"
     ]
    }
   ],
   "source": [
    "print('\\n')\n",
    "print('Likely to be found in English language: A B C')\n",
    "print('\\n')\n",
    "\n",
    "print('Character numbers:')\n",
    "print(ord('A'))\n",
    "print(ord('B'))\n",
    "print(ord('C'))\n",
    "print('\\n')\n",
    "print('\\n')\n",
    "\n",
    "print('Not found in the English language: 爱 日 人')\n",
    "print('\\n')\n",
    "\n",
    "print('Character numbers:')\n",
    "print(ord('爱'))\n",
    "print(ord('日'))\n",
    "print(ord('人'))\n",
    "print('\\n')"
   ]
  },
  {
   "cell_type": "code",
   "execution_count": 73,
   "id": "caec49c5",
   "metadata": {},
   "outputs": [
    {
     "name": "stdout",
     "output_type": "stream",
     "text": [
      "True\n",
      "False\n",
      "True\n",
      "True\n"
     ]
    }
   ],
   "source": [
    "def is_English(string):\n",
    "    non_ascii = 0\n",
    "    \n",
    "    for character in string:\n",
    "        if ord(character) > 127:\n",
    "            non_ascii += 1\n",
    "    \n",
    "    if non_ascii > 3:\n",
    "        return False\n",
    "    else:\n",
    "        return True\n",
    "        \n",
    "print(is_English('Instagram'))\n",
    "print(is_English('爱奇艺PPS -《欢乐颂2》电视剧热播'))\n",
    "print(is_English('Docs To Go™ Free Office Suite'))\n",
    "print(is_English('Instachat 😜'))"
   ]
  },
  {
   "cell_type": "markdown",
   "id": "e249f249",
   "metadata": {},
   "source": [
    "Now I'm going to try to use this function to do a cleaning pass on both datasets."
   ]
  },
  {
   "cell_type": "code",
   "execution_count": 88,
   "id": "e6a18304",
   "metadata": {},
   "outputs": [
    {
     "name": "stdout",
     "output_type": "stream",
     "text": [
      "Previous Google Play app count: 9659\n",
      "Updated Google Play app count: 9614\n",
      "\n",
      "\n",
      "Previous App Store app count: 7197\n",
      "Updated App Store app count: 6183\n"
     ]
    }
   ],
   "source": [
    "# Google Play Dataset\n",
    "\n",
    "android_english = []\n",
    "android_non_english = []\n",
    "\n",
    "for app in android_clean:\n",
    "    name = app[0]\n",
    "    if is_English(name):\n",
    "        android_english.append(app)\n",
    "    else:\n",
    "        android_non_english.append(app)\n",
    "        \n",
    "# App Store Dataset\n",
    "\n",
    "ios_english = []\n",
    "ios_non_english = []\n",
    "\n",
    "for app in ios_data:\n",
    "    name = app[1]\n",
    "    if is_English(name):\n",
    "        ios_english.append(app)\n",
    "    else:\n",
    "        ios_non_english.append(app)\n",
    "        \n",
    "print('Previous Google Play app count:', len(android_clean))\n",
    "print('Updated Google Play app count:', len(android_english))\n",
    "print('\\n')\n",
    "print('Previous App Store app count:', len(ios_data))\n",
    "print('Updated App Store app count:', len(ios_english))"
   ]
  },
  {
   "cell_type": "markdown",
   "id": "90da066d",
   "metadata": {},
   "source": [
    "Before I do anything else, I want to peek at the first few rows for the English and Non-English lists."
   ]
  },
  {
   "cell_type": "code",
   "execution_count": 89,
   "id": "9a6d79ad",
   "metadata": {},
   "outputs": [
    {
     "name": "stdout",
     "output_type": "stream",
     "text": [
      "\n",
      "\n",
      "Google Play Data\n",
      "\n",
      "\n",
      "ENGLISH APPS - FIRST 5\n",
      "\n",
      "\n",
      "['Photo Editor & Candy Camera & Grid & ScrapBook', 'ART_AND_DESIGN', '4.1', '159', '19M', '10,000+', 'Free', '0', 'Everyone', 'Art & Design', 'January 7, 2018', '1.0.0', '4.0.3 and up']\n",
      "\n",
      "\n",
      "['Coloring book moana', 'ART_AND_DESIGN', '3.9', '967', '14M', '500,000+', 'Free', '0', 'Everyone', 'Art & Design;Pretend Play', 'January 15, 2018', '2.0.0', '4.0.3 and up']\n",
      "\n",
      "\n",
      "['U Launcher Lite – FREE Live Cool Themes, Hide Apps', 'ART_AND_DESIGN', '4.7', '87510', '8.7M', '5,000,000+', 'Free', '0', 'Everyone', 'Art & Design', 'August 1, 2018', '1.2.4', '4.0.3 and up']\n",
      "\n",
      "\n",
      "['Sketch - Draw & Paint', 'ART_AND_DESIGN', '4.5', '215644', '25M', '50,000,000+', 'Free', '0', 'Teen', 'Art & Design', 'June 8, 2018', 'Varies with device', '4.2 and up']\n",
      "\n",
      "\n",
      "['Pixel Draw - Number Art Coloring Book', 'ART_AND_DESIGN', '4.3', '967', '2.8M', '100,000+', 'Free', '0', 'Everyone', 'Art & Design;Creativity', 'June 20, 2018', '1.1', '4.4 and up']\n",
      "\n",
      "\n",
      "NON-ENGLISH APPS - FIRST 5\n",
      "\n",
      "\n",
      "['Flame - درب عقلك يوميا', 'EDUCATION', '4.6', '56065', '37M', '1,000,000+', 'Free', '0', 'Everyone', 'Education', 'July 26, 2018', '3.3', '4.1 and up']\n",
      "\n",
      "\n",
      "['သိင်္ Astrology - Min Thein Kha BayDin', 'LIFESTYLE', '4.7', '2225', '15M', '100,000+', 'Free', '0', 'Everyone', 'Lifestyle', 'July 26, 2018', '4.2.1', '4.0.3 and up']\n",
      "\n",
      "\n",
      "['РИА Новости', 'NEWS_AND_MAGAZINES', '4.5', '44274', '8.0M', '1,000,000+', 'Free', '0', 'Everyone', 'News & Magazines', 'August 6, 2018', '4.0.6', '4.4 and up']\n",
      "\n",
      "\n",
      "['صور حرف H', 'ART_AND_DESIGN', '4.4', '13', '4.5M', '1,000+', 'Free', '0', 'Everyone', 'Art & Design', 'March 27, 2018', '2.0', '4.0.3 and up']\n",
      "\n",
      "\n",
      "['L.POINT - 엘포인트 [ 포인트, 멤버십, 적립, 사용, 모바일 카드, 쿠폰, 롯데]', 'LIFESTYLE', '4.0', '45224', '49M', '5,000,000+', 'Free', '0', 'Everyone', 'Lifestyle', 'August 1, 2018', '6.5.1', '4.1 and up']\n",
      "\n",
      "\n",
      "\n",
      "\n",
      "\n",
      "\n",
      "App Store Data\n",
      "\n",
      "\n",
      "ENGLISH APPS - FIRST 5\n",
      "\n",
      "\n",
      "['284882215', 'Facebook', '389879808', 'USD', '0.0', '2974676', '212', '3.5', '3.5', '95.0', '4+', 'Social Networking', '37', '1', '29', '1']\n",
      "\n",
      "\n",
      "['389801252', 'Instagram', '113954816', 'USD', '0.0', '2161558', '1289', '4.5', '4.0', '10.23', '12+', 'Photo & Video', '37', '0', '29', '1']\n",
      "\n",
      "\n",
      "['529479190', 'Clash of Clans', '116476928', 'USD', '0.0', '2130805', '579', '4.5', '4.5', '9.24.12', '9+', 'Games', '38', '5', '18', '1']\n",
      "\n",
      "\n",
      "['420009108', 'Temple Run', '65921024', 'USD', '0.0', '1724546', '3842', '4.5', '4.0', '1.6.2', '9+', 'Games', '40', '5', '1', '1']\n",
      "\n",
      "\n",
      "['284035177', 'Pandora - Music & Radio', '130242560', 'USD', '0.0', '1126879', '3594', '4.0', '4.5', '8.4.1', '12+', 'Music', '37', '4', '1', '1']\n",
      "\n",
      "\n",
      "NON-ENGLISH APPS - FIRST 5\n",
      "\n",
      "\n",
      "['445375097', '爱奇艺PPS -《欢乐颂2》电视剧热播', '224617472', 'USD', '0.0', '14844', '0', '4.0', '0.0', '6.3.3', '17+', 'Entertainment', '38', '5', '3', '1']\n",
      "\n",
      "\n",
      "['405667771', '聚力视频HD-人民的名义,跨界歌王全网热播', '90725376', 'USD', '0.0', '7446', '8', '4.0', '4.5', '5.0.8', '12+', 'Entertainment', '24', '4', '1', '1']\n",
      "\n",
      "\n",
      "['336141475', '优酷视频', '204959744', 'USD', '0.0', '4885', '0', '3.5', '0.0', '6.7.0', '12+', 'Entertainment', '38', '0', '2', '1']\n",
      "\n",
      "\n",
      "['425349261', '网易新闻 - 精选好内容，算出你的兴趣', '133134336', 'USD', '0.0', '4263', '6', '4.5', '1.0', '23.2', '17+', 'News', '37', '4', '2', '1']\n",
      "\n",
      "\n",
      "['387682726', '淘宝 - 随时随地，想淘就淘', '309673984', 'USD', '0.0', '3801', '6', '4.0', '4.0', '6.7.2', '4+', 'Shopping', '37', '1', '1', '1']\n",
      "\n",
      "\n"
     ]
    }
   ],
   "source": [
    "print('\\n')\n",
    "print('Google Play Data')\n",
    "print('\\n')\n",
    "print('ENGLISH APPS - FIRST 5')\n",
    "print('\\n')\n",
    "explore_data(android_english, 0, 5)\n",
    "\n",
    "print('NON-ENGLISH APPS - FIRST 5')\n",
    "print('\\n')\n",
    "explore_data(android_non_english, 0, 5)\n",
    "print('\\n')\n",
    "print('\\n')\n",
    "\n",
    "print('App Store Data')\n",
    "print('\\n')\n",
    "print('ENGLISH APPS - FIRST 5')\n",
    "print('\\n')\n",
    "explore_data(ios_english, 0, 5)\n",
    "\n",
    "print('NON-ENGLISH APPS - FIRST 5')\n",
    "print('\\n')\n",
    "explore_data(ios_non_english, 0, 5)"
   ]
  },
  {
   "cell_type": "markdown",
   "id": "b992bef3",
   "metadata": {},
   "source": [
    "## Step 3.4 - Google Play and App Store Data - Addressing Business Requirement Regarding Non-Free Apps  \n",
    "\n",
    "As the Dataquest assignment instructions point out, we're doing market research for a company that wants to develop *free* apps. Thus, we'll want to remove all non-free apps.  \n"
   ]
  },
  {
   "cell_type": "code",
   "execution_count": 95,
   "id": "a75c8550",
   "metadata": {},
   "outputs": [
    {
     "name": "stdout",
     "output_type": "stream",
     "text": [
      "NUMBER OF FREE, ENGLISH-LANGUAGE APPS\n",
      "Google Play: 8862\n",
      "App Store: 3222\n",
      "\n",
      "\n",
      "NUMBER OF PAID, ENGLISH-LANGUAGE APPS\n",
      "Google Play: 752\n",
      "App Store: 2961\n"
     ]
    }
   ],
   "source": [
    "# Google app price column is index[7]\n",
    "# App store is index[4]\n",
    "\n",
    "## GOOGLE PLAY DATA ##\n",
    "\n",
    "google_free = []\n",
    "google_paid = []\n",
    "\n",
    "for app in android_english:\n",
    "    price = app[7]\n",
    "    if price == '0':\n",
    "        google_free.append(app)\n",
    "    else:\n",
    "        google_paid.append(app)\n",
    "\n",
    "## APP STORE DATA ##\n",
    "\n",
    "ios_free = []\n",
    "ios_paid = []\n",
    "\n",
    "for app in ios_english:\n",
    "    price = app[4]\n",
    "    if price == '0.0':\n",
    "        ios_free.append(app)\n",
    "    else:\n",
    "        ios_paid.append(app)\n",
    "\n",
    "print(\"NUMBER OF FREE, ENGLISH-LANGUAGE APPS\")\n",
    "print(\"Google Play:\", len(google_free))\n",
    "print(\"App Store:\", len(ios_free))\n",
    "print('\\n')\n",
    "\n",
    "print(\"NUMBER OF PAID, ENGLISH-LANGUAGE APPS\")\n",
    "print(\"Google Play:\", len(google_paid))\n",
    "print(\"App Store:\", len(ios_paid))"
   ]
  },
  {
   "cell_type": "markdown",
   "id": "0e67b828",
   "metadata": {},
   "source": [
    "## Step 4 - Analysis  \n",
    "\n",
    "**Assignment Details**\n",
    "Our fictional company has the following plan set in place:\n",
    "\n",
    "<ol>\n",
    "    <li>Build a minimal Android version of the app and publish on Google Play.</li>\n",
    "    <li>If the app has a good response from users, develop it further.</li>\n",
    "    <li>If the app is profitable after six months, build an iOS version of the app and publish on App Store</li>\n",
    "</ol>   \n",
    "\n",
    "Based on this plan, we'll want to find app attributes that are correlated with success on both marketplaces.  \n",
    "\n",
    "---\n",
    "\n",
    "## Step 4.1 - Genre Analysis  \n",
    "\n",
    "First, let's determine the most common genre categories for each market. To do so, we're going to build some frequency tables for a few columns in our dataset."
   ]
  },
  {
   "cell_type": "code",
   "execution_count": 105,
   "id": "4cdd090b",
   "metadata": {},
   "outputs": [],
   "source": [
    "## Google Play - Genres is index[9]\n",
    "## App Store - prime_genre is index[11]\n",
    "\n",
    "def freq_table(dataset, index):\n",
    "    table = {}\n",
    "    total = 0\n",
    "    \n",
    "    for row in dataset:\n",
    "        total += 1\n",
    "        value = row[index]\n",
    "        if value in table:\n",
    "            table[value] += 1\n",
    "        else:\n",
    "            table[value] = 1\n",
    "    \n",
    "    table_percentages = {}\n",
    "    for key in table:\n",
    "        percentage = (table[key] / total) * 100\n",
    "        table_percentages[key] = percentage\n",
    "    \n",
    "    return table_percentages\n",
    "\n",
    "## Dataquest has provided a handy-dandy function called \"display_table()\"\n",
    "\n",
    "def display_table(dataset, index):\n",
    "    table = freq_table(dataset, index)\n",
    "    table_display = []\n",
    "    for key in table:\n",
    "        key_val_as_tuple = (table[key], key)\n",
    "        table_display.append(key_val_as_tuple)\n",
    "\n",
    "    table_sorted = sorted(table_display, reverse = True)\n",
    "    for entry in table_sorted:\n",
    "        print(entry[1], ':', entry[0])"
   ]
  },
  {
   "cell_type": "markdown",
   "id": "941f28e0",
   "metadata": {},
   "source": [
    "### 4.1.1 Analyzing the \"prime_genre\" column in App Store data"
   ]
  },
  {
   "cell_type": "code",
   "execution_count": 106,
   "id": "75b84a77",
   "metadata": {},
   "outputs": [
    {
     "name": "stdout",
     "output_type": "stream",
     "text": [
      "\n",
      "\n",
      "Games : 58.16263190564867\n",
      "Entertainment : 7.883302296710118\n",
      "Photo & Video : 4.9658597144630665\n",
      "Education : 3.662321539416512\n",
      "Social Networking : 3.2898820608317814\n",
      "Shopping : 2.60707635009311\n",
      "Utilities : 2.5139664804469275\n",
      "Sports : 2.1415270018621975\n",
      "Music : 2.0484171322160147\n",
      "Health & Fitness : 2.0173805090006205\n",
      "Productivity : 1.7380509000620732\n",
      "Lifestyle : 1.5828677839851024\n",
      "News : 1.3345747982619491\n",
      "Travel : 1.2414649286157666\n",
      "Finance : 1.1173184357541899\n",
      "Weather : 0.8690254500310366\n",
      "Food & Drink : 0.8069522036002483\n",
      "Reference : 0.5586592178770949\n",
      "Business : 0.5276225946617008\n",
      "Book : 0.4345127250155183\n",
      "Navigation : 0.186219739292365\n",
      "Medical : 0.186219739292365\n",
      "Catalogs : 0.12414649286157665\n",
      "\n",
      "\n"
     ]
    }
   ],
   "source": [
    "print('\\n')        \n",
    "display_table(ios_free, 11)\n",
    "print('\\n')"
   ]
  },
  {
   "cell_type": "markdown",
   "id": "934ab55a",
   "metadata": {},
   "source": [
    "**So, what do we notice?**\n",
    "\n",
    "**Top 3 genres**\n",
    "\n",
    "| Genre | Frequency|\n",
    "|-------|----------|\n",
    "|Games|58.16263190564867|\n",
    "|Entertainment|7.883302296710118|\n",
    "|Photo & Video|4.9658597144630665|\n",
    "\n",
    "A few things jump out right away:\n",
    "<ul>\n",
    "    <li>The race was not close whatsoever between the first- and second-ranked genres. \"Games\" wins by a landslide.</li>\n",
    "    <li>That said, there's also a fairly significant gap between the second- and third-ranked genres. This becomes especially obvious when we look at the items at the bottom of the frequency list, which often have differences in the range of .1 - .4 percentage points.</li>\n",
    "</ul>"
   ]
  },
  {
   "cell_type": "markdown",
   "id": "04ba5d61",
   "metadata": {},
   "source": [
    "### 4.1.2 Analyzing the \"Genres\" column in Google Play data"
   ]
  },
  {
   "cell_type": "code",
   "execution_count": 103,
   "id": "5b795008",
   "metadata": {
    "scrolled": false
   },
   "outputs": [
    {
     "name": "stdout",
     "output_type": "stream",
     "text": [
      "\n",
      "\n",
      "Tools : 8.429248476641842\n",
      "Entertainment : 6.070864364703228\n",
      "Education : 5.348679756262695\n",
      "Business : 4.5926427443015125\n",
      "Productivity : 3.8930264048747465\n",
      "Lifestyle : 3.8930264048747465\n",
      "Finance : 3.7011961182577298\n",
      "Medical : 3.5206499661475967\n",
      "Sports : 3.4642292936131795\n",
      "Personalization : 3.3175355450236967\n",
      "Communication : 3.238546603475513\n",
      "Action : 3.1031369893929135\n",
      "Health & Fitness : 3.080568720379147\n",
      "Photography : 2.945159106296547\n",
      "News & Magazines : 2.798465357707064\n",
      "Social : 2.663055743624464\n",
      "Travel & Local : 2.324531708417964\n",
      "Shopping : 2.2455427668697814\n",
      "Books & Reference : 2.143985556307831\n",
      "Simulation : 2.0424283457458814\n",
      "Dating : 1.8618821936357481\n",
      "Arcade : 1.8505980591288649\n",
      "Video Players & Editors : 1.7716091175806816\n",
      "Casual : 1.7603249830737984\n",
      "Maps & Navigation : 1.399232678853532\n",
      "Food & Drink : 1.2412547957571656\n",
      "Puzzle : 1.128413450688332\n",
      "Racing : 0.9930038366057323\n",
      "Role Playing : 0.9365831640713158\n",
      "Libraries & Demo : 0.9365831640713158\n",
      "Auto & Vehicles : 0.9252990295644324\n",
      "Strategy : 0.9140148950575491\n",
      "House & Home : 0.8350259535093659\n",
      "Weather : 0.8011735499887158\n",
      "Events : 0.7109004739336493\n",
      "Adventure : 0.6770480704129994\n",
      "Comics : 0.6093432633716994\n",
      "Beauty : 0.598059128864816\n",
      "Art & Design : 0.598059128864816\n",
      "Parenting : 0.49650191830286616\n",
      "Card : 0.45136538027533285\n",
      "Casino : 0.4287971112615662\n",
      "Trivia : 0.41751297675468296\n",
      "Educational;Education : 0.3949447077409162\n",
      "Educational : 0.3723764387271496\n",
      "Board : 0.3723764387271496\n",
      "Education;Education : 0.3385240352064997\n",
      "Word : 0.2595350936583164\n",
      "Casual;Pretend Play : 0.23696682464454977\n",
      "Music : 0.2031144211238998\n",
      "Racing;Action & Adventure : 0.16926201760324985\n",
      "Puzzle;Brain Games : 0.16926201760324985\n",
      "Entertainment;Music & Video : 0.16926201760324985\n",
      "Casual;Brain Games : 0.13540961408259986\n",
      "Casual;Action & Adventure : 0.13540961408259986\n",
      "Arcade;Action & Adventure : 0.12412547957571654\n",
      "Action;Action & Adventure : 0.1015572105619499\n",
      "Educational;Pretend Play : 0.09027307605506657\n",
      "Board;Brain Games : 0.09027307605506657\n",
      "Simulation;Action & Adventure : 0.07898894154818326\n",
      "Parenting;Education : 0.07898894154818326\n",
      "Entertainment;Brain Games : 0.07898894154818326\n",
      "Parenting;Music & Video : 0.06770480704129993\n",
      "Educational;Brain Games : 0.06770480704129993\n",
      "Casual;Creativity : 0.06770480704129993\n",
      "Art & Design;Creativity : 0.06770480704129993\n",
      "Education;Pretend Play : 0.056420672534416606\n",
      "Role Playing;Pretend Play : 0.045136538027533285\n",
      "Education;Creativity : 0.045136538027533285\n",
      "Role Playing;Action & Adventure : 0.033852403520649964\n",
      "Puzzle;Action & Adventure : 0.033852403520649964\n",
      "Entertainment;Creativity : 0.033852403520649964\n",
      "Entertainment;Action & Adventure : 0.033852403520649964\n",
      "Educational;Creativity : 0.033852403520649964\n",
      "Educational;Action & Adventure : 0.033852403520649964\n",
      "Education;Music & Video : 0.033852403520649964\n",
      "Education;Brain Games : 0.033852403520649964\n",
      "Education;Action & Adventure : 0.033852403520649964\n",
      "Adventure;Action & Adventure : 0.033852403520649964\n",
      "Video Players & Editors;Music & Video : 0.022568269013766643\n",
      "Sports;Action & Adventure : 0.022568269013766643\n",
      "Simulation;Pretend Play : 0.022568269013766643\n",
      "Puzzle;Creativity : 0.022568269013766643\n",
      "Music;Music & Video : 0.022568269013766643\n",
      "Entertainment;Pretend Play : 0.022568269013766643\n",
      "Casual;Education : 0.022568269013766643\n",
      "Board;Action & Adventure : 0.022568269013766643\n",
      "Video Players & Editors;Creativity : 0.011284134506883321\n",
      "Trivia;Education : 0.011284134506883321\n",
      "Travel & Local;Action & Adventure : 0.011284134506883321\n",
      "Tools;Education : 0.011284134506883321\n",
      "Strategy;Education : 0.011284134506883321\n",
      "Strategy;Creativity : 0.011284134506883321\n",
      "Strategy;Action & Adventure : 0.011284134506883321\n",
      "Simulation;Education : 0.011284134506883321\n",
      "Role Playing;Brain Games : 0.011284134506883321\n",
      "Racing;Pretend Play : 0.011284134506883321\n",
      "Puzzle;Education : 0.011284134506883321\n",
      "Parenting;Brain Games : 0.011284134506883321\n",
      "Music & Audio;Music & Video : 0.011284134506883321\n",
      "Lifestyle;Pretend Play : 0.011284134506883321\n",
      "Lifestyle;Education : 0.011284134506883321\n",
      "Health & Fitness;Education : 0.011284134506883321\n",
      "Health & Fitness;Action & Adventure : 0.011284134506883321\n",
      "Entertainment;Education : 0.011284134506883321\n",
      "Communication;Creativity : 0.011284134506883321\n",
      "Comics;Creativity : 0.011284134506883321\n",
      "Casual;Music & Video : 0.011284134506883321\n",
      "Card;Action & Adventure : 0.011284134506883321\n",
      "Books & Reference;Education : 0.011284134506883321\n",
      "Art & Design;Pretend Play : 0.011284134506883321\n",
      "Art & Design;Action & Adventure : 0.011284134506883321\n",
      "Arcade;Pretend Play : 0.011284134506883321\n",
      "Adventure;Education : 0.011284134506883321\n"
     ]
    }
   ],
   "source": [
    "print('\\n')        \n",
    "display_table(google_free, 9)"
   ]
  },
  {
   "cell_type": "markdown",
   "id": "099f6cf1",
   "metadata": {},
   "source": [
    "**Top 3 genres**\n",
    "\n",
    "| Genre | Frequency|\n",
    "|-------|----------|\n",
    "|Tools |8.429248476641842|\n",
    "|Entertainment|6.070864364703228|\n",
    "|Education|5.348679756262695|\n",
    "\n",
    "Some observations:\n",
    "<ul>\n",
    "    <li>Unlike the previous example, we don't see a huge difference in frequency between the first-, second-, and third-ranked genres.</li>\n",
    "    <li>There is a suspicious lack of \"Games\" on this list. When we delve deeper into the frequency table we see that there are many genre categories that seem to refer to games--e.g. Arcade, Puzzle, Racing and more specific categories such as Role Playing/Brain Games, Arcade/Pretend Play, and Adventure/Education</li>\n",
    "</ul>\n",
    "\n",
    "**Recommendation**  \n",
    "\n",
    "Based on the second observation, I would strongly recommend cleaning the datasets further--creating high-level categories like we saw in the previous example and assigning all of these subgenres to the appropriate category."
   ]
  },
  {
   "cell_type": "markdown",
   "id": "8c279279",
   "metadata": {},
   "source": [
    "### 4.1.3 Analyzing the \"Category\" column in Google Play data"
   ]
  },
  {
   "cell_type": "code",
   "execution_count": 104,
   "id": "9acf5793",
   "metadata": {
    "scrolled": true
   },
   "outputs": [
    {
     "name": "stdout",
     "output_type": "stream",
     "text": [
      "\n",
      "\n",
      "FAMILY : 18.449559918754233\n",
      "GAME : 9.873617693522906\n",
      "TOOLS : 8.440532611148726\n",
      "BUSINESS : 4.5926427443015125\n",
      "LIFESTYLE : 3.9043105393816293\n",
      "PRODUCTIVITY : 3.8930264048747465\n",
      "FINANCE : 3.7011961182577298\n",
      "MEDICAL : 3.5206499661475967\n",
      "SPORTS : 3.39652448657188\n",
      "PERSONALIZATION : 3.3175355450236967\n",
      "COMMUNICATION : 3.238546603475513\n",
      "HEALTH_AND_FITNESS : 3.080568720379147\n",
      "PHOTOGRAPHY : 2.945159106296547\n",
      "NEWS_AND_MAGAZINES : 2.798465357707064\n",
      "SOCIAL : 2.663055743624464\n",
      "TRAVEL_AND_LOCAL : 2.335815842924848\n",
      "SHOPPING : 2.2455427668697814\n",
      "BOOKS_AND_REFERENCE : 2.143985556307831\n",
      "DATING : 1.8618821936357481\n",
      "VIDEO_PLAYERS : 1.782893252087565\n",
      "MAPS_AND_NAVIGATION : 1.399232678853532\n",
      "EDUCATION : 1.2863913337846988\n",
      "FOOD_AND_DRINK : 1.2412547957571656\n",
      "ENTERTAINMENT : 1.128413450688332\n",
      "LIBRARIES_AND_DEMO : 0.9365831640713158\n",
      "AUTO_AND_VEHICLES : 0.9252990295644324\n",
      "HOUSE_AND_HOME : 0.8350259535093659\n",
      "WEATHER : 0.8011735499887158\n",
      "EVENTS : 0.7109004739336493\n",
      "ART_AND_DESIGN : 0.6770480704129994\n",
      "PARENTING : 0.6544798013992327\n",
      "COMICS : 0.6206273978785828\n",
      "BEAUTY : 0.598059128864816\n"
     ]
    }
   ],
   "source": [
    "print('\\n')        \n",
    "display_table(google_free, 1)"
   ]
  },
  {
   "cell_type": "markdown",
   "id": "c6d548fc",
   "metadata": {},
   "source": [
    "**Top 3 categories**\n",
    "\n",
    "| Genre | Frequency|\n",
    "|-------|----------|\n",
    "|FAMILY|18.449559918754233|\n",
    "|GAME|9.873617693522906|\n",
    "|TOOLS|8.440532611148726|\n",
    "\n",
    "Some observations:\n",
    "<ul>\n",
    "    <li>It's not immediately clear what \"Family\" refers to. This is troublesome for a few reasons.\n",
    "        <ol>\n",
    "            <li>Are these entertainment apps that are appropriate for a wide range of ages? If so, how does that reconcile with the \"Video Players\", \"Entertainment\", and \"Comics\" categories?</li>\n",
    "            <li>Are they education apps geared at children? If so, how does that reconcile with the \"Education\" category?</li>\n",
    "        </ol>\n",
    "    </li>\n",
    "    <li>Whatever the \"Family\" category consists of, it has a decent lead on the second-ranking category (\"Games\").</li>\n",
    "    <li>You can't tell from our top-3 chart, but there's a significant enough difference between the third- and fourth-ranked categories--approximately 3.9 percentage points.</li>\n",
    "</ul>"
   ]
  },
  {
   "cell_type": "markdown",
   "id": "8df98b46",
   "metadata": {},
   "source": [
    "## Step 4.2 - App Store - Userbase Analysis (by Genre)  \n",
    "\n",
    "Now that we've identified some popular genres/categories, let's take a look at the average number of user ratings associated with each genre. \n",
    "\n",
    "**Important note:** Please note that the number of user ratings will not be the same as an app's userbase. Not all app users rate the app on its respective market platform."
   ]
  },
  {
   "cell_type": "code",
   "execution_count": 110,
   "id": "9f51597c",
   "metadata": {
    "scrolled": true
   },
   "outputs": [
    {
     "name": "stdout",
     "output_type": "stream",
     "text": [
      "Social Networking : 71548.34905660378\n",
      "Photo & Video : 28441.54375\n",
      "Games : 22788.6696905016\n",
      "Music : 57326.530303030304\n",
      "Reference : 74942.11111111111\n",
      "Health & Fitness : 23298.015384615384\n",
      "Weather : 52279.892857142855\n",
      "Utilities : 18684.456790123455\n",
      "Travel : 28243.8\n",
      "Shopping : 26919.690476190477\n",
      "News : 21248.023255813954\n",
      "Navigation : 86090.33333333333\n",
      "Lifestyle : 16485.764705882353\n",
      "Entertainment : 14029.830708661417\n",
      "Food & Drink : 33333.92307692308\n",
      "Sports : 23008.898550724636\n",
      "Book : 39758.5\n",
      "Finance : 31467.944444444445\n",
      "Education : 7003.983050847458\n",
      "Productivity : 21028.410714285714\n",
      "Business : 7491.117647058823\n",
      "Catalogs : 4004.0\n",
      "Medical : 612.0\n"
     ]
    }
   ],
   "source": [
    "genres_ios = freq_table(ios_free, 11)\n",
    "\n",
    "for genre in genres_ios:\n",
    "    total = 0\n",
    "    len_genre = 0\n",
    "    for app in ios_free:\n",
    "        genre_app = app[11]\n",
    "        if genre_app == genre:\n",
    "            n_ratings = float(app[5])\n",
    "            total += n_ratings\n",
    "            len_genre += 1\n",
    "    avg_n_ratings = total / len_genre\n",
    "    print(genre, ':', avg_n_ratings)"
   ]
  },
  {
   "cell_type": "markdown",
   "id": "0e663797",
   "metadata": {},
   "source": [
    "**Top 3 genres**\n",
    "\n",
    "| Genre | Average Number of Ratings|\n",
    "|-------|----------|\n",
    "|Social Networking|71548.34905660378|\n",
    "|Photo & Video|28441.54375|\n",
    "|Games|22788.6696905016|\n",
    "\n",
    "Some observations:\n",
    "<ul>\n",
    "    <li>The top category likely won't be too relevant to a new company. The average number of rankings in this category is likely concentrated in a small handful of apps. Users tend to be reluctant to jump over to new social networks, so I wouldn't recommend pursuing this category.</li>\n",
    "    <li>\"Photo and Video\" could refer to a lot of different things. It would be very interesting to get a more detailed breakdown of what apps fall into this category. How many apps are standalone editing tools that are designed to perform one or two specific functions? How many apps have more advanced capabilities? How many focus on photo and how many focus on video?</li>\n",
    "    <li>\"Games\" can be a lucrative app category, but (as I'll discuss in the conclusion of this document) this genre of app has a lot of specific domain knowledge.</li>\n",
    "</ul>"
   ]
  },
  {
   "cell_type": "markdown",
   "id": "818cb593",
   "metadata": {},
   "source": [
    "## Step 4.3 - Google Play - Userbase Analysis (by Genre)"
   ]
  },
  {
   "cell_type": "code",
   "execution_count": 112,
   "id": "fe3f3439",
   "metadata": {
    "scrolled": true
   },
   "outputs": [
    {
     "name": "stdout",
     "output_type": "stream",
     "text": [
      "ART_AND_DESIGN : 1905351.6666666667\n",
      "AUTO_AND_VEHICLES : 647317.8170731707\n",
      "BEAUTY : 513151.88679245283\n",
      "BOOKS_AND_REFERENCE : 8767811.894736841\n",
      "BUSINESS : 1712290.1474201474\n",
      "COMICS : 817657.2727272727\n",
      "COMMUNICATION : 38456119.167247385\n",
      "DATING : 854028.8303030303\n",
      "EDUCATION : 3082017.543859649\n",
      "ENTERTAINMENT : 21134600.0\n",
      "EVENTS : 253542.22222222222\n",
      "FINANCE : 1387692.475609756\n",
      "FOOD_AND_DRINK : 1924897.7363636363\n",
      "HEALTH_AND_FITNESS : 4188821.9853479853\n",
      "HOUSE_AND_HOME : 1313681.9054054054\n",
      "LIBRARIES_AND_DEMO : 638503.734939759\n",
      "LIFESTYLE : 1437816.2687861272\n",
      "GAME : 15837565.085714286\n",
      "FAMILY : 2691618.159021407\n",
      "MEDICAL : 120616.48717948717\n",
      "SOCIAL : 23253652.127118643\n",
      "SHOPPING : 7036877.311557789\n",
      "PHOTOGRAPHY : 17805627.643678162\n",
      "SPORTS : 3638640.1428571427\n",
      "TRAVEL_AND_LOCAL : 13984077.710144928\n",
      "TOOLS : 10695245.286096256\n",
      "PERSONALIZATION : 5201482.6122448975\n",
      "PRODUCTIVITY : 16787331.344927534\n",
      "PARENTING : 542603.6206896552\n",
      "WEATHER : 5074486.197183099\n",
      "VIDEO_PLAYERS : 24852732.40506329\n",
      "NEWS_AND_MAGAZINES : 9549178.467741935\n",
      "MAPS_AND_NAVIGATION : 4056941.7741935486\n"
     ]
    }
   ],
   "source": [
    "categories_google = freq_table(google_free, 1)\n",
    "\n",
    "for category in categories_google:\n",
    "    total = 0\n",
    "    len_category = 0\n",
    "    for app in google_free:\n",
    "        category_app = app[1]\n",
    "        if category_app == category:\n",
    "            n_installs = app[5]\n",
    "            n_installs = n_installs.replace('+', '')\n",
    "            n_installs = n_installs.replace(',', '')\n",
    "            n_installs = float(n_installs)\n",
    "            total += n_installs\n",
    "            len_category += 1\n",
    "    avg_installs = total / len_category\n",
    "    print(category, ':', avg_installs)"
   ]
  },
  {
   "cell_type": "markdown",
   "id": "9b4fc626",
   "metadata": {},
   "source": [
    "**Top 3 categories**\n",
    "\n",
    "| Genre | Average Number of Installs|\n",
    "|-------|----------|\n",
    "|ART_AND_DESIGN|1905351.6666666667|\n",
    "|AUTO_AND_VEHICLES|647317.8170731707|\n",
    "|BEAUTY|513151.88679245283|\n",
    "\n",
    "Some observations:\n",
    "<ul>\n",
    "    <li>To reiterate a point I made in the previous subsection, art and design would be a good category to research. It isn't immensely useful as a category at the moment, though, because \"art and design\" could refer to a wide range of things.</li>\n",
    "    <li>I would also make the same point about the \"Beauty\" category.</li>\n",
    "    <li>Auto and vehicles would be another interesting category to research. However, the company *is* attempting to produce an app that can succeed on both marketplaces. In that case, I would at minimum conduct additional research on the viability of auto/vehicle apps on the App store before choosing this category.</li>\n",
    "</ul>"
   ]
  },
  {
   "cell_type": "markdown",
   "id": "35620069",
   "metadata": {},
   "source": [
    "## Conclusions  \n",
    "\n",
    "### Complicating Factors to Consider  \n",
    "\n",
    "Unless more work is done on the data, I'd have to be very conservative with my recommendations. \n",
    "<ol>\n",
    "<li>We assessed the number of user reviews associated with genres/categories, but that *doesn't* give us any insight about the range of values for apps *within* a given genre or category. If a particular game is a runaway hit (e.g. Genshin Impact, Candy Crush, Temple Runner) the userbase numbers for that game *do not imply* a guarantee that any app in the \"Games\" category will find a comparable userbase. In fact, in practice we see that there is usually a tremendous disparity between the user counts associated with top games and the user counts that are distributed amongst all other apps in that category.</li>\n",
    "    \n",
    "<li>I would be wary of giving the impression that all categories or genres are equally difficult to build. This is especially relevant considering that \"Games\" emerges as a prominent category in both the App Store and Google Play markets. Game design is a specialized field, and users have different expectations for what constitutes a \"good user experience.\" If the company wants to quickly produce an app for the market *and* that company does not have employees who are experienced with mobile game design, I would consider other options first. It would be prudent to assume that this could also hold true for other app categories.</li>\n",
    "\n",
    "<li>If we look at the top genres and categories for the App Store and Google Play, we'll find that practical apps factor heavily into the Google Play market but not so much within the App Store. However, enjoyment-based apps perform strongly in both marketplaces.</li>\n",
    "</ol>\n",
    "\n",
    "### Next Steps\n",
    "\n",
    "I'd recommend the following as next steps:\n",
    "\n",
    "<ul>\n",
    "    <li>Analyze the popularity of individual apps within genres of interest.\n",
    "        <ul>\n",
    "            <li>How does popularity seem to be distributed within the apps that belong to this genre?</li>\n",
    "            <li>Are there any noticeable patterns for popular and unpopular apps?</li>\n",
    "        </ul>\n",
    "    </li>\n",
    "    <li>Consult with Subject Matter Experts about the viability of developing within particular genres, particularly:\n",
    "        <ul>\n",
    "            <li>Video Games</li>\n",
    "            <li>Social Media/Networking</li>\n",
    "        </ul>\n",
    "    </li>\n",
    "    <li>Enhance the usefulness of the Google Play data by engineering high-level thematic categories and sorting the existing subcategories into the appropriate categories.</li>\n",
    "    <li>Once you've narrowed it down to two or three genres/categories, conduct additional analysis to identify subgenres/subcategories and the patterns associated with them.</li>\n",
    "</ul>"
   ]
  }
 ],
 "metadata": {
  "kernelspec": {
   "display_name": "Python 3 (ipykernel)",
   "language": "python",
   "name": "python3"
  },
  "language_info": {
   "codemirror_mode": {
    "name": "ipython",
    "version": 3
   },
   "file_extension": ".py",
   "mimetype": "text/x-python",
   "name": "python",
   "nbconvert_exporter": "python",
   "pygments_lexer": "ipython3",
   "version": "3.9.7"
  }
 },
 "nbformat": 4,
 "nbformat_minor": 5
}
